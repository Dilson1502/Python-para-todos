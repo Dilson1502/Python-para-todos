{
  "nbformat": 4,
  "nbformat_minor": 0,
  "metadata": {
    "colab": {
      "provenance": []
    },
    "kernelspec": {
      "name": "python3",
      "display_name": "Python 3"
    },
    "language_info": {
      "name": "python"
    }
  },
  "cells": [
    {
      "cell_type": "markdown",
      "source": [
        "**Parte 1**"
      ],
      "metadata": {
        "id": "GAsaamcdn9ww"
      }
    },
    {
      "cell_type": "markdown",
      "source": [
        " Crear un algoritmo que resuelva el problema de leer 100 números y determinar cuántos y cuáles de ellos son mayores al promedio. Se sugiere, antes de mirar la solución del algoritmo, intentar escribir el pseudocódigo, esta es una buena práctica de aprendizaje."
      ],
      "metadata": {
        "id": "XB3NTPLJoAW7"
      }
    },
    {
      "cell_type": "code",
      "source": [
        "lista=[]\n",
        "suma=0\n",
        "cantidad =0\n",
        "mayores_promedio=[]\n",
        "N=int(input(\"Cantidad de numeros:\"))\n",
        "for i in range(N):\n",
        "  numero=int(input(\"ingrese un numero:\")) \n",
        "  suma=suma+numero\n",
        "  lista.append(numero)\n",
        "promedio= suma/N\n",
        "for i in lista:\n",
        "  if i>promedio:\n",
        "    cantidad+=1\n",
        "    mayores_promedio.append(i)   \n",
        "print(\"Existen\" , cantidad , \"número mayores al promedio\" )\n",
        "print(\"Números mayores al promedio: \" , mayores_promedio)\n"
      ],
      "metadata": {
        "id": "9Stsm3wXoIN6",
        "colab": {
          "base_uri": "https://localhost:8080/"
        },
        "outputId": "b2035c06-e2e5-4840-8c30-cc6797eedff5"
      },
      "execution_count": null,
      "outputs": [
        {
          "output_type": "stream",
          "name": "stdout",
          "text": [
            "Cantidad de numeros:4\n",
            "ingrese un numero:1\n",
            "ingrese un numero:2\n",
            "ingrese un numero:3\n",
            "ingrese un numero:4\n",
            "Existen 2 número mayores al promedio\n",
            "Números mayores al promedio:  [3, 4]\n"
          ]
        }
      ]
    },
    {
      "cell_type": "markdown",
      "source": [
        "**Parte 2**"
      ],
      "metadata": {
        "id": "tCCTYoQjn690"
      }
    },
    {
      "cell_type": "markdown",
      "source": [
        "**Diseñe un algoritmo para buscar en un vector de números enteros los elementos que son múltiplos de 7 o de 13.**"
      ],
      "metadata": {
        "id": "kwqxZ98AfkTw"
      }
    },
    {
      "cell_type": "code",
      "execution_count": null,
      "metadata": {
        "colab": {
          "base_uri": "https://localhost:8080/"
        },
        "id": "aujBzgjtc8FW",
        "outputId": "35f89ce3-949e-430b-a3c3-649136d95185"
      },
      "outputs": [
        {
          "output_type": "stream",
          "name": "stdout",
          "text": [
            "Cantidad de numeros:5\n",
            "escriba un numero:7\n",
            "escriba un numero:13\n",
            "escriba un numero:3\n",
            "escriba un numero:14\n",
            "escriba un numero:26\n",
            "Los múltiplos de 7 son:  [7, 14]\n",
            "Los múltiplos de 13 son:  [13, 26]\n"
          ]
        }
      ],
      "source": [
        "N=int(input(\"Cantidad de numeros:\"))\n",
        "numeros=[]\n",
        "multiplos7=[]\n",
        "multiplos13=[]\n",
        "\n",
        "for n in range(N):\n",
        "    n=int(input(\"escriba un numero:\"))\n",
        "    numeros.append(n)\n",
        "for i in numeros:\n",
        "    if i%7==0:\n",
        "      multiplos7.append(i)\n",
        "    elif i%13==0:\n",
        "      multiplos13.append(i)\n",
        "print(\"Los múltiplos de 7 son: \", multiplos7)\n",
        "print(\"Los múltiplos de 13 son: \", multiplos13)\n"
      ]
    },
    {
      "cell_type": "markdown",
      "source": [
        "**Diseñe un algoritmo para reorganizar vector, cambiar los elementos pares, ubicándolos en las posiciones iníciales, después se colocan los impares.** "
      ],
      "metadata": {
        "id": "ZWRs7hRMgA2a"
      }
    },
    {
      "cell_type": "code",
      "source": [
        "from operator import concat\n",
        "numeros = []\n",
        "numerospares=[]\n",
        "numerosimpares=[]\n",
        "\n",
        "N = int(input(\"Ingrese cantidad de números: \"))\n",
        "for i in range(N):\n",
        "  i=int(input(\"Escriba un número: \"))\n",
        "  numeros.append(i)\n",
        "for i in numeros:\n",
        "  if i%2==0:\n",
        "    numerospares.append(i)\n",
        "  elif i%2==1:\n",
        "    numerosimpares.append(i)\n",
        "print(\"numeros pares\",numerospares)\n",
        "print(\"numeros impares\",numerosimpares)\n",
        "lista=concat(numerospares,numerosimpares)\n",
        "print(\"Lista de números ordenada pares luego impares\",lista)"
      ],
      "metadata": {
        "colab": {
          "base_uri": "https://localhost:8080/"
        },
        "id": "3PBMMHujgRoR",
        "outputId": "e592d27a-9bda-4100-e5b8-aac6dbd0cc18"
      },
      "execution_count": null,
      "outputs": [
        {
          "output_type": "stream",
          "name": "stdout",
          "text": [
            "Ingrese cantidad de números: 4\n",
            "Escriba un número: 1\n",
            "Escriba un número: 2\n",
            "Escriba un número: 3\n",
            "Escriba un número: 4\n",
            "numeros pares [2, 4]\n",
            "numeros impares [1, 3]\n",
            "Lista de números ordenada pares luego impares [2, 4, 1, 3]\n"
          ]
        }
      ]
    },
    {
      "cell_type": "markdown",
      "source": [
        "**Se tiene un vector de enteros, diseñar un algoritmo para ubicar los elementos que están en posiciones pares a posiciones impares y viceversa.**"
      ],
      "metadata": {
        "id": "2EIAhNymlJ4Q"
      }
    },
    {
      "cell_type": "code",
      "source": [
        "N=int(input(\"Ingrese cantidad de números: \"))\n",
        "numeros=[]\n",
        "for i in range (N):\n",
        "  i=int(input(\"Ingrese un número: \"))\n",
        "  numeros.append(i)\n",
        "print(\"Posicion Original: \",numeros)\n",
        "num=numeros[0]\n",
        "for n in range(1,len(numeros)):\n",
        "  numeros[n-1]=numeros[n]\n",
        "numeros[n]=num\n",
        "print(\"Nueva posición: \",numeros)\n"
      ],
      "metadata": {
        "colab": {
          "base_uri": "https://localhost:8080/"
        },
        "id": "Xd6Cs_w-lTbd",
        "outputId": "2fca356b-00b5-4741-d5b4-b03d8e4de637"
      },
      "execution_count": null,
      "outputs": [
        {
          "output_type": "stream",
          "name": "stdout",
          "text": [
            "Ingrese cantidad de números: 3\n",
            "Ingrese un número: 2\n",
            "Ingrese un número: 4\n",
            "Ingrese un número: 3\n",
            "Posicion Original:  [2, 4, 3]\n",
            "Nueva posición:  [4, 3, 2]\n"
          ]
        }
      ]
    },
    {
      "cell_type": "markdown",
      "source": [
        "**Cree un algoritmo que calcule el promedio de notas de un estudiante y si es mayor que 3.0 muestre un mensaje de aprobado**"
      ],
      "metadata": {
        "id": "6jUDgfojAnlN"
      }
    },
    {
      "cell_type": "code",
      "source": [
        "notas=[3.4,3.4,4.6,2.0,3.8]\n",
        "s=0\n",
        "for i in range(len(notas)):\n",
        "  s=s+notas[i]\n",
        "promedio=s/5\n",
        "if (promedio >=3):\n",
        "  print(\"aprobado\",promedio)\n",
        "else:\n",
        "  print(\"reprobado\",promedio)\n"
      ],
      "metadata": {
        "colab": {
          "base_uri": "https://localhost:8080/"
        },
        "id": "4fRRcAdXA2Tp",
        "outputId": "55430f09-818b-41b6-b62f-278475f9e73c"
      },
      "execution_count": null,
      "outputs": [
        {
          "output_type": "stream",
          "name": "stdout",
          "text": [
            "aprobado 3.44\n"
          ]
        }
      ]
    },
    {
      "cell_type": "markdown",
      "source": [
        "**Ciclos for aplicado a matrices (arreglos de dos dimensiones)**"
      ],
      "metadata": {
        "id": "5LYYy94l_hOo"
      }
    },
    {
      "cell_type": "code",
      "source": [
        "M = [[0,0,0],[0,0,0],[0,0,0]]\n",
        "a=50\n",
        "for i in range(len(M)):\n",
        "  for j in range(len(M)):\n",
        "    M[i][j]=a\n",
        "    a=a-5\n",
        "print(M)"
      ],
      "metadata": {
        "colab": {
          "base_uri": "https://localhost:8080/"
        },
        "id": "zJ-yjZMK96f1",
        "outputId": "8651ad02-2d65-4209-89db-b1fe0be0cf94"
      },
      "execution_count": null,
      "outputs": [
        {
          "output_type": "stream",
          "name": "stdout",
          "text": [
            "[[50, 45, 40], [35, 30, 25], [20, 15, 10]]\n"
          ]
        }
      ]
    },
    {
      "cell_type": "code",
      "source": [
        "M=[[1,2,3],[4,5,6],[7,8,9]]\n",
        "a=50\n",
        "for i in range(len(M)):\n",
        "  for j in range(len(M)):\n",
        "    M[i][j]=10%(i+j+6)\n",
        "print (M)"
      ],
      "metadata": {
        "colab": {
          "base_uri": "https://localhost:8080/"
        },
        "id": "frI-MEst-okK",
        "outputId": "7efc8507-4774-4d40-bd81-1aa83edb228c"
      },
      "execution_count": null,
      "outputs": [
        {
          "output_type": "stream",
          "name": "stdout",
          "text": [
            "[[4, 3, 2], [3, 2, 1], [2, 1, 0]]\n"
          ]
        }
      ]
    }
  ]
}