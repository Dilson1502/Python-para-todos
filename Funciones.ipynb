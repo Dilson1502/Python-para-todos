{
  "nbformat": 4,
  "nbformat_minor": 0,
  "metadata": {
    "colab": {
      "provenance": []
    },
    "kernelspec": {
      "name": "python3",
      "display_name": "Python 3"
    },
    "language_info": {
      "name": "python"
    }
  },
  "cells": [
    {
      "cell_type": "code",
      "execution_count": null,
      "metadata": {
        "colab": {
          "base_uri": "https://localhost:8080/"
        },
        "id": "ZXZQPGW4HVge",
        "outputId": "5950da89-e73f-4705-d6fa-70ea57ac7939"
      },
      "outputs": [
        {
          "output_type": "stream",
          "name": "stdout",
          "text": [
            "6\n"
          ]
        }
      ],
      "source": [
        "def Mistery(n):\n",
        "  i=0\n",
        "  a=0\n",
        "  while(i<n):\n",
        "    a=a+i\n",
        "    i=i+2\n",
        "  return a\n",
        "print(Mistery(5))"
      ]
    },
    {
      "cell_type": "code",
      "source": [
        "def funcion(n,m):\n",
        "  if(m%n==0):\n",
        "    return True\n",
        "  else:\n",
        "    return False\n",
        "print(funcion(6,3))"
      ],
      "metadata": {
        "colab": {
          "base_uri": "https://localhost:8080/"
        },
        "id": "KOE9x7hfIPfY",
        "outputId": "980e99d0-5a1f-45eb-b5dc-1bd65ca72460"
      },
      "execution_count": null,
      "outputs": [
        {
          "output_type": "stream",
          "name": "stdout",
          "text": [
            "False\n"
          ]
        }
      ]
    },
    {
      "cell_type": "code",
      "source": [
        "def funcion(n,i):\n",
        "  while(n>i):\n",
        "    i=i+1\n",
        "    print(\"n = \",n,\"i=\",i)\n",
        "print(funcion(4,2))"
      ],
      "metadata": {
        "colab": {
          "base_uri": "https://localhost:8080/"
        },
        "id": "p0nMjNJ4I7Tn",
        "outputId": "25376b37-8b3a-4f08-98c0-dd7998f50928"
      },
      "execution_count": null,
      "outputs": [
        {
          "output_type": "stream",
          "name": "stdout",
          "text": [
            "n =  4 i= 3\n",
            "n =  4 i= 4\n",
            "None\n"
          ]
        }
      ]
    },
    {
      "cell_type": "code",
      "source": [
        "def funcion(n,i):\n",
        "  while(n>i):\n",
        "    i=i+1\n",
        "    print(\"n =\",n,\"i= \",i)\n",
        "print(funcion(4,3))"
      ],
      "metadata": {
        "colab": {
          "base_uri": "https://localhost:8080/"
        },
        "id": "6aXV71HrJ0ZN",
        "outputId": "7f9ef076-8f43-4658-8d4d-0b981adce9ec"
      },
      "execution_count": null,
      "outputs": [
        {
          "output_type": "stream",
          "name": "stdout",
          "text": [
            "n = 4 i=  4\n",
            "None\n"
          ]
        }
      ]
    },
    {
      "cell_type": "code",
      "source": [
        "A=[23,25,37,54,83,98,12]\n",
        "def funcion(A):\n",
        "  s=0\n",
        "  for i in A:\n",
        "    if(i%2==0 and i%10==4):\n",
        "      s=s+i\n",
        "  return s\n",
        "m=funcion(A)\n",
        "print(m)"
      ],
      "metadata": {
        "colab": {
          "base_uri": "https://localhost:8080/"
        },
        "id": "u2BNbItNKQaH",
        "outputId": "4740de28-e955-429a-a261-806bfebc93c2"
      },
      "execution_count": null,
      "outputs": [
        {
          "output_type": "stream",
          "name": "stdout",
          "text": [
            "54\n"
          ]
        }
      ]
    },
    {
      "cell_type": "code",
      "source": [
        "A=[85,25,37,54,83,98,12]\n",
        "def funcion(A):\n",
        "  str_pos=\"\"\n",
        "  for i in A:\n",
        "    if(i%2==1 or i%10==5):\n",
        "      str_pos= str_pos + str(i) + \" \"\n",
        "    return str_pos\n",
        "m=funcion(A)\n",
        "print(m)"
      ],
      "metadata": {
        "colab": {
          "base_uri": "https://localhost:8080/"
        },
        "id": "1do7hZQ9LJ-e",
        "outputId": "2dcdc5b7-3f1c-4fce-ba73-0218fa5280b6"
      },
      "execution_count": null,
      "outputs": [
        {
          "output_type": "stream",
          "name": "stdout",
          "text": [
            "85 \n"
          ]
        }
      ]
    }
  ]
}