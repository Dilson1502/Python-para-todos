{
  "nbformat": 4,
  "nbformat_minor": 0,
  "metadata": {
    "colab": {
      "provenance": []
    },
    "kernelspec": {
      "name": "python3",
      "display_name": "Python 3"
    },
    "language_info": {
      "name": "python"
    }
  },
  "cells": [
    {
      "cell_type": "code",
      "source": [
        "pip install datatable"
      ],
      "metadata": {
        "colab": {
          "base_uri": "https://localhost:8080/"
        },
        "id": "P4W_GWlXz2cI",
        "outputId": "ecacff67-d6b4-4260-c49f-409c3ddea90c"
      },
      "execution_count": 2,
      "outputs": [
        {
          "output_type": "stream",
          "name": "stdout",
          "text": [
            "Looking in indexes: https://pypi.org/simple, https://us-python.pkg.dev/colab-wheels/public/simple/\n",
            "Collecting datatable\n",
            "  Downloading datatable-1.0.0-cp37-cp37m-manylinux_2_12_x86_64.whl (96.9 MB)\n",
            "\u001b[K     |████████████████████████████████| 96.9 MB 116 kB/s \n",
            "\u001b[?25hInstalling collected packages: datatable\n",
            "Successfully installed datatable-1.0.0\n"
          ]
        }
      ]
    },
    {
      "cell_type": "code",
      "execution_count": 3,
      "metadata": {
        "colab": {
          "base_uri": "https://localhost:8080/",
          "height": 34
        },
        "id": "6KjMyrBKzQTh",
        "outputId": "33aa76e3-cbe9-41b7-b99c-9354fc3fafff"
      },
      "outputs": [
        {
          "output_type": "display_data",
          "data": {
            "text/plain": [
              "<IPython.core.display.HTML object>"
            ],
            "text/html": [
              "<style type='text/css'>\n",
              ".datatable table.frame { margin-bottom: 0; }\n",
              ".datatable table.frame thead { border-bottom: none; }\n",
              ".datatable table.frame tr.coltypes td {  color: #FFFFFF;  line-height: 6px;  padding: 0 0.5em;}\n",
              ".datatable .bool    { background: #DDDD99; }\n",
              ".datatable .object  { background: #565656; }\n",
              ".datatable .int     { background: #5D9E5D; }\n",
              ".datatable .float   { background: #4040CC; }\n",
              ".datatable .str     { background: #CC4040; }\n",
              ".datatable .time    { background: #40CC40; }\n",
              ".datatable .row_index {  background: var(--jp-border-color3);  border-right: 1px solid var(--jp-border-color0);  color: var(--jp-ui-font-color3);  font-size: 9px;}\n",
              ".datatable .frame tbody td { text-align: left; }\n",
              ".datatable .frame tr.coltypes .row_index {  background: var(--jp-border-color0);}\n",
              ".datatable th:nth-child(2) { padding-left: 12px; }\n",
              ".datatable .hellipsis {  color: var(--jp-cell-editor-border-color);}\n",
              ".datatable .vellipsis {  background: var(--jp-layout-color0);  color: var(--jp-cell-editor-border-color);}\n",
              ".datatable .na {  color: var(--jp-cell-editor-border-color);  font-size: 80%;}\n",
              ".datatable .sp {  opacity: 0.25;}\n",
              ".datatable .footer { font-size: 9px; }\n",
              ".datatable .frame_dimensions {  background: var(--jp-border-color3);  border-top: 1px solid var(--jp-border-color0);  color: var(--jp-ui-font-color3);  display: inline-block;  opacity: 0.6;  padding: 1px 10px 1px 5px;}\n",
              "</style>\n"
            ]
          },
          "metadata": {}
        },
        {
          "output_type": "stream",
          "name": "stdout",
          "text": [
            "1.0.0\n"
          ]
        }
      ],
      "source": [
        "import time\n",
        "import numpy as np\n",
        "import pandas as pd\n",
        "import datatable as dt\n",
        "print(dt.__version__)"
      ]
    },
    {
      "cell_type": "code",
      "source": [
        "# Reading data with datatable\n",
        "start = time.time()\n",
        "input_file_name = \"/content/inputcacao.csv\"\n",
        "dt_df = dt.fread(input_file_name)\n",
        "end = time.time()\n",
        "print(end - start)"
      ],
      "metadata": {
        "colab": {
          "base_uri": "https://localhost:8080/"
        },
        "id": "nNHRd0Auz89A",
        "outputId": "93bf3b3e-e4bd-4ce5-f186-49ee3c3def06"
      },
      "execution_count": 6,
      "outputs": [
        {
          "output_type": "stream",
          "name": "stdout",
          "text": [
            "0.004918098449707031\n"
          ]
        }
      ]
    },
    {
      "cell_type": "code",
      "source": [
        "# Reading data with pandas\n",
        "import time\n",
        "start = time.time()\n",
        "pd_df= pd.read_csv(input_file_name)\n",
        "end = time.time()\n",
        "print(end - start)"
      ],
      "metadata": {
        "colab": {
          "base_uri": "https://localhost:8080/"
        },
        "id": "Ggi2DpXU0oLG",
        "outputId": "2ebd0ac2-63a7-4a4b-fe3e-3f32ae06fea4"
      },
      "execution_count": 8,
      "outputs": [
        {
          "output_type": "stream",
          "name": "stdout",
          "text": [
            "0.014520883560180664\n"
          ]
        }
      ]
    },
    {
      "cell_type": "code",
      "source": [
        "# Converting datatable to a pandas dataframe\n",
        "start = time.time()\n",
        "dt_df.to_pandas()\n",
        "end = time.time()\n",
        "print(end - start)"
      ],
      "metadata": {
        "colab": {
          "base_uri": "https://localhost:8080/"
        },
        "id": "wi5Fzry000FC",
        "outputId": "4d6bf669-35bb-4388-8cb6-ddcc30fcf542"
      },
      "execution_count": 13,
      "outputs": [
        {
          "output_type": "stream",
          "name": "stdout",
          "text": [
            "0.0037994384765625\n"
          ]
        }
      ]
    },
    {
      "cell_type": "code",
      "source": [
        "# Frame properties using datatable\n",
        "dt_df.head()"
      ],
      "metadata": {
        "colab": {
          "base_uri": "https://localhost:8080/",
          "height": 342
        },
        "id": "NSbIj8zx1H4_",
        "outputId": "83674866-c832-45ea-9551-8469005edc14"
      },
      "execution_count": 14,
      "outputs": [
        {
          "output_type": "execute_result",
          "data": {
            "text/plain": [
              "<Frame#7fe420e5be70 10x17>"
            ],
            "text/html": [
              "<div class='datatable'>\n",
              "  <table class='frame'>\n",
              "  <thead>\n",
              "    <tr class='colnames'><td class='row_index'></td><th>C0</th><th>AÑO</th><th>ASNM</th><th>CULTIVO</th><th>DIRECCION_VIENTO</th><th>HUMEDAD</th><th>PRECIPITACION</th><th>PRESION_ATMOSFERICA</th><th>TEMPERATURA</th><th>TEMPERATURA_MAXIMA</th><th class='vellipsis'>&hellip;</th><th>AREA SEMBRADA (HA)</th><th>AREA COSECHADA (HA)</th><th>PRODUCCION (T)</th><th>RENDIMIENTO (T/HA)</th><th>RENDIMIENTO CALCULADO (T/HA)</th></tr>\n",
              "    <tr class='coltypes'><td class='row_index'></td><td class='int' title='int32'>&#x25AA;&#x25AA;&#x25AA;&#x25AA;</td><td class='int' title='int32'>&#x25AA;&#x25AA;&#x25AA;&#x25AA;</td><td class='float' title='float64'>&#x25AA;&#x25AA;&#x25AA;&#x25AA;&#x25AA;&#x25AA;&#x25AA;&#x25AA;</td><td class='str' title='str32'>&#x25AA;&#x25AA;&#x25AA;&#x25AA;</td><td class='float' title='float64'>&#x25AA;&#x25AA;&#x25AA;&#x25AA;&#x25AA;&#x25AA;&#x25AA;&#x25AA;</td><td class='float' title='float64'>&#x25AA;&#x25AA;&#x25AA;&#x25AA;&#x25AA;&#x25AA;&#x25AA;&#x25AA;</td><td class='float' title='float64'>&#x25AA;&#x25AA;&#x25AA;&#x25AA;&#x25AA;&#x25AA;&#x25AA;&#x25AA;</td><td class='float' title='float64'>&#x25AA;&#x25AA;&#x25AA;&#x25AA;&#x25AA;&#x25AA;&#x25AA;&#x25AA;</td><td class='float' title='float64'>&#x25AA;&#x25AA;&#x25AA;&#x25AA;&#x25AA;&#x25AA;&#x25AA;&#x25AA;</td><td class='float' title='float64'>&#x25AA;&#x25AA;&#x25AA;&#x25AA;&#x25AA;&#x25AA;&#x25AA;&#x25AA;</td><td></td><td class='float' title='float64'>&#x25AA;&#x25AA;&#x25AA;&#x25AA;&#x25AA;&#x25AA;&#x25AA;&#x25AA;</td><td class='float' title='float64'>&#x25AA;&#x25AA;&#x25AA;&#x25AA;&#x25AA;&#x25AA;&#x25AA;&#x25AA;</td><td class='float' title='float64'>&#x25AA;&#x25AA;&#x25AA;&#x25AA;&#x25AA;&#x25AA;&#x25AA;&#x25AA;</td><td class='float' title='float64'>&#x25AA;&#x25AA;&#x25AA;&#x25AA;&#x25AA;&#x25AA;&#x25AA;&#x25AA;</td><td class='float' title='float64'>&#x25AA;&#x25AA;&#x25AA;&#x25AA;&#x25AA;&#x25AA;&#x25AA;&#x25AA;</td></tr>\n",
              "  </thead>\n",
              "  <tbody>\n",
              "    <tr><td class='row_index'>0</td><td>4</td><td>2007</td><td>178</td><td>CACAO</td><td>151.56</td><td>81.2023</td><td>2416.1</td><td>990.704</td><td>26.1021</td><td>43.9</td><td class=vellipsis>&hellip;</td><td>30</td><td>27</td><td>14</td><td>0.52</td><td>0.518519</td></tr>\n",
              "    <tr><td class='row_index'>1</td><td>5</td><td>2007</td><td>297</td><td>CACAO</td><td>8.54804</td><td>68.7824</td><td>123.7</td><td>597.226</td><td>27.77</td><td>39.2</td><td class=vellipsis>&hellip;</td><td>1660</td><td>1460</td><td>710</td><td>0.49</td><td>0.486301</td></tr>\n",
              "    <tr><td class='row_index'>2</td><td>6</td><td>2007</td><td>950</td><td>CACAO</td><td>5.96629</td><td>77.4599</td><td>549.2</td><td>906.147</td><td>23.5118</td><td>33.7</td><td class=vellipsis>&hellip;</td><td>59</td><td>30</td><td>18</td><td>0.6</td><td>0.6</td></tr>\n",
              "    <tr><td class='row_index'>3</td><td>7</td><td>2007</td><td>449</td><td>CACAO</td><td>10.1213</td><td>75.5183</td><td>5719.25</td><td>963.246</td><td>25.6506</td><td>34.3</td><td class=vellipsis>&hellip;</td><td>31</td><td>30</td><td>16</td><td>0.53</td><td>0.533333</td></tr>\n",
              "    <tr><td class='row_index'>4</td><td>8</td><td>2007</td><td>257</td><td>CACAO</td><td>188.35</td><td>86.8367</td><td>1815</td><td>986.389</td><td>24.7861</td><td>38.6</td><td class=vellipsis>&hellip;</td><td>25</td><td>15</td><td>8</td><td>0.53</td><td>0.533333</td></tr>\n",
              "    <tr><td class='row_index'>5</td><td>9</td><td>2007</td><td>18</td><td>CACAO</td><td>7.13887</td><td>72.3323</td><td>1538.6</td><td>967.136</td><td>26.9742</td><td>37.4</td><td class=vellipsis>&hellip;</td><td>746</td><td>546</td><td>273</td><td>0.5</td><td>0.5</td></tr>\n",
              "    <tr><td class='row_index'>6</td><td>10</td><td>2007</td><td>373</td><td>CACAO</td><td>7.70893</td><td>62.1356</td><td>709.6</td><td>958.74</td><td>28.0218</td><td>39.4</td><td class=vellipsis>&hellip;</td><td>38</td><td>35</td><td>14</td><td>0.4</td><td>0.4</td></tr>\n",
              "    <tr><td class='row_index'>7</td><td>11</td><td>2007</td><td>1534</td><td>CACAO</td><td>7.41558</td><td>84.8055</td><td>1975.2</td><td>1099.8</td><td>16.5269</td><td>26.3</td><td class=vellipsis>&hellip;</td><td>5</td><td>5</td><td>2</td><td>0.4</td><td>0.4</td></tr>\n",
              "    <tr><td class='row_index'>8</td><td>12</td><td>2007</td><td>593</td><td>CACAO</td><td>10.4124</td><td>22.1453</td><td>1731.3</td><td>891.18</td><td>22.2958</td><td>30.3</td><td class=vellipsis>&hellip;</td><td>13353</td><td>12000</td><td>7200</td><td>0.6</td><td>0.6</td></tr>\n",
              "    <tr><td class='row_index'>9</td><td>13</td><td>2007</td><td>1411</td><td>CACAO</td><td>9.3</td><td>88.2852</td><td>7718.22</td><td>815.893</td><td>14.9634</td><td>29.2</td><td class=vellipsis>&hellip;</td><td>12</td><td>10</td><td>6</td><td>0.6</td><td>0.6</td></tr>\n",
              "  </tbody>\n",
              "  </table>\n",
              "  <div class='footer'>\n",
              "    <div class='frame_dimensions'>10 rows &times; 17 columns</div>\n",
              "  </div>\n",
              "</div>\n"
            ]
          },
          "metadata": {},
          "execution_count": 14
        }
      ]
    },
    {
      "cell_type": "code",
      "source": [
        "# Frame shape\n",
        "dt_df.shape"
      ],
      "metadata": {
        "colab": {
          "base_uri": "https://localhost:8080/"
        },
        "id": "1nUPn4y21lXv",
        "outputId": "6b4d0cc4-645f-404a-9dc8-5ed98e99c8d1"
      },
      "execution_count": 15,
      "outputs": [
        {
          "output_type": "execute_result",
          "data": {
            "text/plain": [
              "(750, 17)"
            ]
          },
          "metadata": {},
          "execution_count": 15
        }
      ]
    },
    {
      "cell_type": "code",
      "source": [
        "# getting column names\n",
        "dt_df.names[1:17]"
      ],
      "metadata": {
        "colab": {
          "base_uri": "https://localhost:8080/"
        },
        "id": "98A7bTwY1p9V",
        "outputId": "eb33b746-dfd0-4def-fb5c-5847b08b8a61"
      },
      "execution_count": 18,
      "outputs": [
        {
          "output_type": "execute_result",
          "data": {
            "text/plain": [
              "('AÑO',\n",
              " 'ASNM',\n",
              " 'CULTIVO',\n",
              " 'DIRECCION_VIENTO',\n",
              " 'HUMEDAD',\n",
              " 'PRECIPITACION',\n",
              " 'PRESION_ATMOSFERICA',\n",
              " 'TEMPERATURA',\n",
              " 'TEMPERATURA_MAXIMA',\n",
              " 'TEMPERATURA_MINIMA',\n",
              " 'VELOCIDAD_VIENTO',\n",
              " 'AREA SEMBRADA (HA)',\n",
              " 'AREA COSECHADA (HA)',\n",
              " 'PRODUCCION (T)',\n",
              " 'RENDIMIENTO (T/HA)',\n",
              " 'RENDIMIENTO CALCULADO (T/HA)')"
            ]
          },
          "metadata": {},
          "execution_count": 18
        }
      ]
    },
    {
      "cell_type": "code",
      "source": [
        "# A simple ML Model (Linear Regression)\n",
        "from sklearn.linear_model import LinearRegression\n",
        "model = LinearRegression()\n",
        "model.fit(dt_df[:,[\"ASNM\",\"PRECIPITACION\",\"PRECIPITACION\",\"TEMPERATURA\"]], dt_df[:,\"RENDIMIENTO CALCULADO (T/HA)\"])\n",
        "model.coef_"
      ],
      "metadata": {
        "colab": {
          "base_uri": "https://localhost:8080/"
        },
        "id": "6mEnYmlu2Jug",
        "outputId": "4caa820f-48f4-494f-d09b-1bbdd51a5ad7"
      },
      "execution_count": 20,
      "outputs": [
        {
          "output_type": "execute_result",
          "data": {
            "text/plain": [
              "array([[4.54506745e-05, 3.56201302e-08, 3.56201304e-08, 1.04613277e-03]])"
            ]
          },
          "metadata": {},
          "execution_count": 20
        }
      ]
    }
  ]
}